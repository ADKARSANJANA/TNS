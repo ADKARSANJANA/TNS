{
  "nbformat": 4,
  "nbformat_minor": 0,
  "metadata": {
    "colab": {
      "provenance": [],
      "authorship_tag": "ABX9TyOHmUeo+H9arntARrcDwj0Y",
      "include_colab_link": true
    },
    "kernelspec": {
      "name": "python3",
      "display_name": "Python 3"
    },
    "language_info": {
      "name": "python"
    }
  },
  "cells": [
    {
      "cell_type": "markdown",
      "metadata": {
        "id": "view-in-github",
        "colab_type": "text"
      },
      "source": [
        "<a href=\"https://colab.research.google.com/github/ADKARSANJANA/TNS/blob/main/Week2_HW.ipynb\" target=\"_parent\"><img src=\"https://colab.research.google.com/assets/colab-badge.svg\" alt=\"Open In Colab\"/></a>"
      ]
    },
    {
      "cell_type": "markdown",
      "source": [
        "Stack\n"
      ],
      "metadata": {
        "id": "9CLY_IQnYt1i"
      }
    },
    {
      "cell_type": "code",
      "execution_count": 1,
      "metadata": {
        "colab": {
          "base_uri": "https://localhost:8080/"
        },
        "id": "aHXBrEk3XhIi",
        "outputId": "f195e874-1f62-49fe-fcbf-853460c22203"
      },
      "outputs": [
        {
          "output_type": "stream",
          "name": "stdout",
          "text": [
            "Stack after push: [10, 20, 30]\n",
            "Stack after pop: [10, 20]\n",
            "Top element: 20\n"
          ]
        }
      ],
      "source": [
        "#1.\tImplement a stack using arrays and perform push, pop, and peek operations. (Easy)\n",
        "stack = []\n",
        "\n",
        "stack.append(10)\n",
        "stack.append(20)\n",
        "stack.append(30)\n",
        "print(\"Stack after push:\", stack)\n",
        "\n",
        "stack.pop()\n",
        "print(\"Stack after pop:\", stack)\n",
        "\n",
        "print(\"Top element:\", stack[-1])\n"
      ]
    },
    {
      "cell_type": "code",
      "source": [
        "#2.\tCheck whether a given string of parentheses is balanced using a stack. (Easy)\n",
        "def isBalanced(expr):\n",
        "    stack = []\n",
        "    for ch in expr:\n",
        "        if ch in \"([{\":\n",
        "            stack.append(ch)\n",
        "        else:\n",
        "            if not stack:\n",
        "                return False\n",
        "            top = stack.pop()\n",
        "            if (ch == ')' and top != '(') or (ch == ']' and top != '[') or (ch == '}' and top != '{'):\n",
        "                return False\n",
        "    return len(stack) == 0\n",
        "\n",
        "s = input(\"Enter parentheses: \")\n",
        "if isBalanced(s):\n",
        "    print(\"Balanced\")\n",
        "else:\n",
        "    print(\"Not Balanced\")\n"
      ],
      "metadata": {
        "colab": {
          "base_uri": "https://localhost:8080/"
        },
        "id": "O4aGUJXHZGU4",
        "outputId": "e6555525-4301-4d7f-bd11-6541c6e5b057"
      },
      "execution_count": 4,
      "outputs": [
        {
          "output_type": "stream",
          "name": "stdout",
          "text": [
            "Enter parentheses: ({})\n",
            "Balanced\n"
          ]
        }
      ]
    },
    {
      "cell_type": "code",
      "source": [
        "#3.\tDesign a stack that supports retrieving the minimum element in O(1) time. (Medium)\n",
        "stack = []\n",
        "minStack = []\n",
        "\n",
        "def push(x):\n",
        "    stack.append(x)\n",
        "    if not minStack or x <= minStack[-1]:\n",
        "        minStack.append(x)\n",
        "\n",
        "def pop():\n",
        "    if not stack:\n",
        "        print(\"Stack empty\")\n",
        "        return\n",
        "    val = stack.pop()\n",
        "    if val == minStack[-1]:\n",
        "        minStack.pop()\n",
        "    print(\"Popped:\", val)\n",
        "\n",
        "def getMin():\n",
        "    if not minStack:\n",
        "        print(\"Stack empty\")\n",
        "    else:\n",
        "        print(\"Min element:\", minStack[-1])\n",
        "\n",
        "\n",
        "push(5)\n",
        "push(2)\n",
        "push(8)\n",
        "push(1)\n",
        "getMin()\n",
        "pop()\n",
        "getMin()\n"
      ],
      "metadata": {
        "colab": {
          "base_uri": "https://localhost:8080/"
        },
        "id": "296pMeMcZvcH",
        "outputId": "c37738af-ae96-46f9-ddda-2239f963b3f3"
      },
      "execution_count": 5,
      "outputs": [
        {
          "output_type": "stream",
          "name": "stdout",
          "text": [
            "Min element: 1\n",
            "Popped: 1\n",
            "Min element: 2\n"
          ]
        }
      ]
    },
    {
      "cell_type": "code",
      "source": [
        "#4.\tEvaluate a postfix expression using a stack. (Medium)\n",
        "\n",
        "def evalPostfix(exp):\n",
        "    stack = []\n",
        "    for ch in exp.split():\n",
        "        if ch.isdigit():\n",
        "            stack.append(int(ch))\n",
        "        else:\n",
        "            b = stack.pop()\n",
        "            a = stack.pop()\n",
        "            if ch == '+':\n",
        "                stack.append(a+b)\n",
        "            elif ch == '-':\n",
        "                stack.append(a-b)\n",
        "            elif ch == '*':\n",
        "                stack.append(a*b)\n",
        "            elif ch == '/':\n",
        "                stack.append(int(a/b))\n",
        "    if len(stack) == 1:\n",
        "        return stack[0]\n",
        "    else:\n",
        "        return \"Invalid / incomplete expression\"\n",
        "\n",
        "exp = input(\"Enter postfix expression (space separated): \")\n",
        "print(\"Result:\", evalPostfix(exp))\n",
        "\n",
        "\n"
      ],
      "metadata": {
        "colab": {
          "base_uri": "https://localhost:8080/"
        },
        "id": "6K0A6vM5aMvb",
        "outputId": "1f832a25-d5cc-46b0-c3b5-5911dc898814"
      },
      "execution_count": 9,
      "outputs": [
        {
          "output_type": "stream",
          "name": "stdout",
          "text": [
            "Enter postfix expression (space separated): 3 2 5 + * 5 +\n",
            "Result: 26\n"
          ]
        }
      ]
    },
    {
      "cell_type": "code",
      "source": [
        "#5.\tImplement two stacks using a single array. (Medium)\n",
        "size = 10\n",
        "arr = [None]*size\n",
        "top1 = -1\n",
        "top2 = size\n",
        "\n",
        "def push1(x):\n",
        "    global top1, top2\n",
        "    if top1 < top2-1:\n",
        "        top1 += 1\n",
        "        arr[top1] = x\n",
        "    else:\n",
        "        print(\"Stack Overflow\")\n",
        "\n",
        "def push2(x):\n",
        "    global top1, top2\n",
        "    if top1 < top2-1:\n",
        "        top2 -= 1\n",
        "        arr[top2] = x\n",
        "    else:\n",
        "        print(\"Stack Overflow\")\n",
        "\n",
        "def pop1():\n",
        "    global top1\n",
        "    if top1 >= 0:\n",
        "        val = arr[top1]\n",
        "        top1 -= 1\n",
        "        print(\"Popped from Stack1:\", val)\n",
        "    else:\n",
        "        print(\"Stack1 Empty\")\n",
        "\n",
        "def pop2():\n",
        "    global top2\n",
        "    if top2 < size:\n",
        "        val = arr[top2]\n",
        "        top2 += 1\n",
        "        print(\"Popped from Stack2:\", val)\n",
        "    else:\n",
        "        print(\"Stack2 Empty\")\n",
        "\n",
        "# Example usage\n",
        "push1(10)\n",
        "push1(20)\n",
        "push2(30)\n",
        "push2(40)\n",
        "pop1()\n",
        "pop2()\n",
        "\n"
      ],
      "metadata": {
        "colab": {
          "base_uri": "https://localhost:8080/"
        },
        "id": "9tZmJknjaPA7",
        "outputId": "656bd47b-1e90-4aca-89c8-4fe84b05b7ff"
      },
      "execution_count": 11,
      "outputs": [
        {
          "output_type": "stream",
          "name": "stdout",
          "text": [
            "Popped from Stack1: 20\n",
            "Popped from Stack2: 40\n"
          ]
        }
      ]
    },
    {
      "cell_type": "markdown",
      "source": [
        "Queue\n"
      ],
      "metadata": {
        "id": "Ngsb3DApblPm"
      }
    },
    {
      "cell_type": "code",
      "source": [
        "#6.\tImplement a queue using arrays and perform enqueue and dequeue operations. (Easy)\n",
        "queue = []\n",
        "\n",
        "queue.append(10)\n",
        "queue.append(20)\n",
        "queue.append(30)\n",
        "print(\"Queue after enqueue:\", queue)\n",
        "\n",
        "queue.pop(0)\n",
        "print(\"Queue after dequeue:\", queue)"
      ],
      "metadata": {
        "colab": {
          "base_uri": "https://localhost:8080/"
        },
        "id": "RC6m8pyDboP5",
        "outputId": "c59b411e-9b88-40de-f517-247d7d2926b3"
      },
      "execution_count": 12,
      "outputs": [
        {
          "output_type": "stream",
          "name": "stdout",
          "text": [
            "Queue after enqueue: [10, 20, 30]\n",
            "Queue after dequeue: [20, 30]\n"
          ]
        }
      ]
    },
    {
      "cell_type": "code",
      "source": [
        "#7.\tImplement a circular queue using an array. (Easy)\n",
        "\n",
        "size = 5\n",
        "queue = [None]*size\n",
        "front = -1\n",
        "rear = -1\n",
        "\n",
        "def enqueue(x):\n",
        "    global front, rear\n",
        "    if (rear+1) % size == front:\n",
        "        print(\"Queue is Full\")\n",
        "    elif front == -1:\n",
        "        front = rear = 0\n",
        "        queue[rear] = x\n",
        "    else:\n",
        "        rear = (rear+1) % size\n",
        "        queue[rear] = x\n",
        "\n",
        "def dequeue():\n",
        "    global front, rear\n",
        "    if front == -1:\n",
        "        print(\"Queue is Empty\")\n",
        "    elif front == rear:\n",
        "        print(\"Deleted:\", queue[front])\n",
        "        front = rear = -1\n",
        "    else:\n",
        "        print(\"Deleted:\", queue[front])\n",
        "        front = (front+1) % size\n",
        "\n",
        "def display():\n",
        "    if front == -1:\n",
        "        print(\"Queue is Empty\")\n",
        "    else:\n",
        "        i = front\n",
        "        while True:\n",
        "            print(queue[i], end=\" \")\n",
        "            if i == rear:\n",
        "                break\n",
        "            i = (i+1) % size\n",
        "        print()\n",
        "\n",
        "# Example\n",
        "enqueue(10)\n",
        "enqueue(20)\n",
        "enqueue(30)\n",
        "display()\n",
        "dequeue()\n",
        "display()\n"
      ],
      "metadata": {
        "colab": {
          "base_uri": "https://localhost:8080/"
        },
        "id": "mrvdLthobxGu",
        "outputId": "da04341e-1fa9-45c7-995d-c7a2fc4b2fdf"
      },
      "execution_count": 13,
      "outputs": [
        {
          "output_type": "stream",
          "name": "stdout",
          "text": [
            "10 20 30 \n",
            "Deleted: 10\n",
            "20 30 \n"
          ]
        }
      ]
    },
    {
      "cell_type": "code",
      "source": [
        "#8.\tImplement a queue using two stacks. (Medium)\n",
        "stack1 = []\n",
        "stack2 = []\n",
        "\n",
        "def enqueue(x):\n",
        "    stack1.append(x)\n",
        "\n",
        "def dequeue():\n",
        "    if not stack1 and not stack2:\n",
        "        print(\"Queue is Empty\")\n",
        "        return\n",
        "    if not stack2:\n",
        "        while stack1:\n",
        "            stack2.append(stack1.pop())\n",
        "    print(\"Deleted:\", stack2.pop())\n",
        "\n",
        "# Example\n",
        "enqueue(1)\n",
        "enqueue(2)\n",
        "enqueue(3)\n",
        "dequeue()\n",
        "dequeue()\n",
        "\n"
      ],
      "metadata": {
        "colab": {
          "base_uri": "https://localhost:8080/"
        },
        "id": "CcI8j0Pmb5NC",
        "outputId": "17d2ec61-f6da-4dbf-f21f-4adf276704e2"
      },
      "execution_count": 14,
      "outputs": [
        {
          "output_type": "stream",
          "name": "stdout",
          "text": [
            "Deleted: 1\n",
            "Deleted: 2\n"
          ]
        }
      ]
    },
    {
      "cell_type": "code",
      "source": [
        "#9.\tDesign a data structure that supports both stack and queue operations efficiently (Deque). (Medium)\n",
        "deque = []\n",
        "\n",
        "def push_front(x):\n",
        "    deque.insert(0, x)\n",
        "\n",
        "def push_back(x):\n",
        "    deque.append(x)\n",
        "\n",
        "def pop_front():\n",
        "    if not deque:\n",
        "        print(\"Deque empty\")\n",
        "    else:\n",
        "        print(\"Removed from front:\", deque.pop(0))\n",
        "\n",
        "def pop_back():\n",
        "    if not deque:\n",
        "        print(\"Deque empty\")\n",
        "    else:\n",
        "        print(\"Removed from back:\", deque.pop())\n",
        "\n",
        "def display():\n",
        "    print(\"Deque:\", deque)\n",
        "\n",
        "# Example\n",
        "push_back(10)\n",
        "push_front(20)\n",
        "push_back(30)\n",
        "display()\n",
        "pop_front()\n",
        "display()\n",
        "pop_back()\n",
        "display()\n",
        "\n"
      ],
      "metadata": {
        "colab": {
          "base_uri": "https://localhost:8080/"
        },
        "id": "wWCYaG1ncP10",
        "outputId": "eb12fdac-df5c-4301-f819-ff6f48467cdf"
      },
      "execution_count": 15,
      "outputs": [
        {
          "output_type": "stream",
          "name": "stdout",
          "text": [
            "Deque: [20, 10, 30]\n",
            "Removed from front: 20\n",
            "Deque: [10, 30]\n",
            "Removed from back: 30\n",
            "Deque: [10]\n"
          ]
        }
      ]
    },
    {
      "cell_type": "code",
      "source": [
        "#10.\tGiven a window size k, find the maximum element in each sliding window using a queue. (Medium)\n",
        "from collections import deque\n",
        "\n",
        "def maxSlidingWindow(nums, k):\n",
        "    q = deque()\n",
        "    res = []\n",
        "\n",
        "    for i in range(len(nums)):\n",
        "        # remove elements out of this window\n",
        "        if q and q[0] <= i-k:\n",
        "            q.popleft()\n",
        "\n",
        "        # maintain decreasing order in deque\n",
        "        while q and nums[q[-1]] <= nums[i]:\n",
        "            q.pop()\n",
        "\n",
        "        q.append(i)\n",
        "\n",
        "        # store result when window is full\n",
        "        if i >= k-1:\n",
        "            res.append(nums[q[0]])\n",
        "    return res\n",
        "\n",
        "arr = [1,3,-1,-3,5,3,6,7]\n",
        "k = 3\n",
        "print(\"Array:\", arr)\n",
        "print(\"Sliding Window Max:\", maxSlidingWindow(arr, k))\n"
      ],
      "metadata": {
        "colab": {
          "base_uri": "https://localhost:8080/"
        },
        "id": "eK_c9IkHcUn0",
        "outputId": "e91191a9-d838-4009-c978-f0c08df8f077"
      },
      "execution_count": 16,
      "outputs": [
        {
          "output_type": "stream",
          "name": "stdout",
          "text": [
            "Array: [1, 3, -1, -3, 5, 3, 6, 7]\n",
            "Sliding Window Max: [3, 3, 5, 5, 6, 7]\n"
          ]
        }
      ]
    },
    {
      "cell_type": "markdown",
      "source": [
        "Linked List\n"
      ],
      "metadata": {
        "id": "rtuYEfd1cjp2"
      }
    },
    {
      "cell_type": "code",
      "source": [
        "#11.\tReverse a singly linked list iteratively. (Easy)\n",
        "class Node:\n",
        "    def __init__(self, data):\n",
        "        self.data = data\n",
        "        self.next = None\n",
        "\n",
        "def printList(head):\n",
        "    temp = head\n",
        "    while temp:\n",
        "        print(temp.data, end=\" -> \")\n",
        "        temp = temp.next\n",
        "    print(\"None\")\n",
        "\n",
        "def reverseList(head):\n",
        "    prev = None\n",
        "    curr = head\n",
        "    while curr:\n",
        "        nxt = curr.next\n",
        "        curr.next = prev\n",
        "        prev = curr\n",
        "        curr = nxt\n",
        "    return prev\n",
        "\n",
        "# Example\n",
        "head = Node(1)\n",
        "head.next = Node(2)\n",
        "head.next.next = Node(3)\n",
        "\n",
        "print(\"Original:\")\n",
        "printList(head)\n",
        "\n",
        "head = reverseList(head)\n",
        "print(\"Reversed:\")\n",
        "printList(head)\n"
      ],
      "metadata": {
        "colab": {
          "base_uri": "https://localhost:8080/"
        },
        "id": "c1E0t-VEcptH",
        "outputId": "3d36952e-8b97-4765-ee04-15a883c8a011"
      },
      "execution_count": 17,
      "outputs": [
        {
          "output_type": "stream",
          "name": "stdout",
          "text": [
            "Original:\n",
            "1 -> 2 -> 3 -> None\n",
            "Reversed:\n",
            "3 -> 2 -> 1 -> None\n"
          ]
        }
      ]
    },
    {
      "cell_type": "code",
      "source": [
        "#12.\tDetect if a linked list has a cycle. (Easy)\n",
        "class Node:\n",
        "    def __init__(self, data):\n",
        "        self.data = data\n",
        "        self.next = None\n",
        "\n",
        "def hasCycle(head):\n",
        "    slow = head\n",
        "    fast = head\n",
        "    while fast and fast.next:\n",
        "        slow = slow.next\n",
        "        fast = fast.next.next\n",
        "        if slow == fast:\n",
        "            return True\n",
        "    return False\n",
        "\n",
        "# Example\n",
        "head = Node(1)\n",
        "head.next = Node(2)\n",
        "head.next.next = Node(3)\n",
        "head.next.next.next = head.next   # cycle\n",
        "\n",
        "print(\"Cycle present?\", hasCycle(head))\n",
        "\n",
        "\n"
      ],
      "metadata": {
        "colab": {
          "base_uri": "https://localhost:8080/"
        },
        "id": "gH_Ih0Goc0mx",
        "outputId": "e8706954-3756-4e55-b608-b67a3763161c"
      },
      "execution_count": 18,
      "outputs": [
        {
          "output_type": "stream",
          "name": "stdout",
          "text": [
            "Cycle present? True\n"
          ]
        }
      ]
    },
    {
      "cell_type": "code",
      "source": [
        "#13.\tFind the middle element of a linked list. (Easy)\n",
        "class Node:\n",
        "    def __init__(self, data):\n",
        "        self.data = data\n",
        "        self.next = None\n",
        "\n",
        "def findMiddle(head):\n",
        "    slow = head\n",
        "    fast = head\n",
        "    while fast and fast.next:\n",
        "        slow = slow.next\n",
        "        fast = fast.next.next\n",
        "    return slow.data\n",
        "\n",
        "# Example\n",
        "head = Node(10)\n",
        "head.next = Node(20)\n",
        "head.next.next = Node(30)\n",
        "head.next.next.next = Node(40)\n",
        "head.next.next.next.next = Node(50)\n",
        "\n",
        "print(\"Middle element:\", findMiddle(head))\n"
      ],
      "metadata": {
        "colab": {
          "base_uri": "https://localhost:8080/"
        },
        "id": "uhPrnlaHc5vO",
        "outputId": "b9683b8b-cb02-44b0-bacd-6e0f3e730cf1"
      },
      "execution_count": 19,
      "outputs": [
        {
          "output_type": "stream",
          "name": "stdout",
          "text": [
            "Middle element: 30\n"
          ]
        }
      ]
    },
    {
      "cell_type": "code",
      "source": [
        "#14.\tMerge two sorted linked lists into one sorted linked list. (Medium)\n",
        "class Node:\n",
        "    def __init__(self, data):\n",
        "        self.data = data\n",
        "        self.next = None\n",
        "\n",
        "def mergeLists(l1, l2):\n",
        "    dummy = Node(0)\n",
        "    tail = dummy\n",
        "    while l1 and l2:\n",
        "        if l1.data < l2.data:\n",
        "            tail.next = l1\n",
        "            l1 = l1.next\n",
        "        else:\n",
        "            tail.next = l2\n",
        "            l2 = l2.next\n",
        "        tail = tail.next\n",
        "    if l1:\n",
        "        tail.next = l1\n",
        "    if l2:\n",
        "        tail.next = l2\n",
        "    return dummy.next\n",
        "\n",
        "def printList(head):\n",
        "    while head:\n",
        "        print(head.data, end=\" -> \")\n",
        "        head = head.next\n",
        "    print(\"None\")\n",
        "\n",
        "# Example\n",
        "a = Node(1)\n",
        "a.next = Node(3)\n",
        "a.next.next = Node(5)\n",
        "\n",
        "b = Node(2)\n",
        "b.next = Node(4)\n",
        "b.next.next = Node(6)\n",
        "\n",
        "merged = mergeLists(a, b)\n",
        "print(\"Merged List:\")\n",
        "printList(merged)\n",
        "\n"
      ],
      "metadata": {
        "colab": {
          "base_uri": "https://localhost:8080/"
        },
        "id": "qrr3ix1kdRu2",
        "outputId": "4dc093ca-302a-4d8c-b625-4afe6ebcc4fa"
      },
      "execution_count": 20,
      "outputs": [
        {
          "output_type": "stream",
          "name": "stdout",
          "text": [
            "Merged List:\n",
            "1 -> 2 -> 3 -> 4 -> 5 -> 6 -> None\n"
          ]
        }
      ]
    },
    {
      "cell_type": "code",
      "source": [
        "#15.\tRemove the nth node from the end of a linked list in one pass. (Medium)\n",
        "class Node:\n",
        "    def __init__(self, data):\n",
        "        self.data = data\n",
        "        self.next = None\n",
        "\n",
        "def removeNthFromEnd(head, n):\n",
        "    dummy = Node(0)\n",
        "    dummy.next = head\n",
        "    first = dummy\n",
        "    second = dummy\n",
        "\n",
        "    for _ in range(n+1):\n",
        "        first = first.next\n",
        "\n",
        "    while first:\n",
        "        first = first.next\n",
        "        second = second.next\n",
        "\n",
        "    second.next = second.next.next\n",
        "    return dummy.next\n",
        "\n",
        "def printList(head):\n",
        "    while head:\n",
        "        print(head.data, end=\" -> \")\n",
        "        head = head.next\n",
        "    print(\"None\")\n",
        "\n",
        "# Example\n",
        "head = Node(10)\n",
        "head.next = Node(20)\n",
        "head.next.next = Node(30)\n",
        "head.next.next.next = Node(40)\n",
        "head.next.next.next.next = Node(50)\n",
        "\n",
        "print(\"Original:\")\n",
        "printList(head)\n",
        "\n",
        "head = removeNthFromEnd(head, 2)  # remove 2nd from end (40)\n",
        "print(\"After Removal:\")\n",
        "printList(head)\n"
      ],
      "metadata": {
        "colab": {
          "base_uri": "https://localhost:8080/"
        },
        "id": "7mxscAMmdR7h",
        "outputId": "266193a1-94f5-4b1e-bc2f-bc7c277b5247"
      },
      "execution_count": 22,
      "outputs": [
        {
          "output_type": "stream",
          "name": "stdout",
          "text": [
            "Original:\n",
            "10 -> 20 -> 30 -> 40 -> 50 -> None\n",
            "After Removal:\n",
            "10 -> 20 -> 30 -> 50 -> None\n"
          ]
        }
      ]
    }
  ]
}