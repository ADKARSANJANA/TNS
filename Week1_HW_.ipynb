{
  "nbformat": 4,
  "nbformat_minor": 0,
  "metadata": {
    "colab": {
      "provenance": [],
      "authorship_tag": "ABX9TyO2Ci+eg0hv6+/NNTJccNEP",
      "include_colab_link": true
    },
    "kernelspec": {
      "name": "python3",
      "display_name": "Python 3"
    },
    "language_info": {
      "name": "python"
    }
  },
  "cells": [
    {
      "cell_type": "markdown",
      "metadata": {
        "id": "view-in-github",
        "colab_type": "text"
      },
      "source": [
        "<a href=\"https://colab.research.google.com/github/ADKARSANJANA/TNS/blob/main/Week1_HW_.ipynb\" target=\"_parent\"><img src=\"https://colab.research.google.com/assets/colab-badge.svg\" alt=\"Open In Colab\"/></a>"
      ]
    },
    {
      "cell_type": "markdown",
      "source": [
        "Day 1 – Python Basics: Variables, Input/Output, Operators\n"
      ],
      "metadata": {
        "id": "qM7pZ6zgzrCi"
      }
    },
    {
      "cell_type": "code",
      "execution_count": null,
      "metadata": {
        "colab": {
          "base_uri": "https://localhost:8080/"
        },
        "id": "s305cCuwzgQN",
        "outputId": "adef1dfc-f901-4f61-f3f4-e2cd83735fed"
      },
      "outputs": [
        {
          "output_type": "stream",
          "name": "stdout",
          "text": [
            "Enter the radius:5\n",
            "Area: 78.5\n",
            "Circumfernce: 31.400000000000002\n"
          ]
        }
      ],
      "source": [
        "#1. Write a program that takes the radius as input and calculates the area and circumference of a circle.\n",
        "def calculate():\n",
        "  radius = float(input(\"Enter the radius:\"))\n",
        "  area = 3.14*radius*radius\n",
        "  print(\"Area:\",area)\n",
        "  circumference=2*3.14*radius\n",
        "  print(\"Circumfernce:\",circumference)\n",
        "calculate()\n"
      ]
    },
    {
      "cell_type": "code",
      "source": [
        "#2. Write a program to check if a number is divisible by both 3 and 5.\n",
        "number = int(input(\"Enter the number:\"))\n",
        "if number%3==0 and number%5==0:\n",
        "  print(\"The number is divisible by both 3and 5\")\n",
        "else:\n",
        "  print(\"The number is divisible by both 3and 5\")"
      ],
      "metadata": {
        "colab": {
          "base_uri": "https://localhost:8080/"
        },
        "id": "F5sniBub1yyx",
        "outputId": "b1b1edde-1b81-48fd-cf7d-2bf66b058b48"
      },
      "execution_count": null,
      "outputs": [
        {
          "output_type": "stream",
          "name": "stdout",
          "text": [
            "Enter the number:15\n",
            "The number is divisible by both 3and 5\n"
          ]
        }
      ]
    },
    {
      "cell_type": "code",
      "source": [
        "#3. Write a program that takes a 4-digit number from the user and prints the sum of its digits.\n",
        "num = int(input(\"Enter a 4 digit number: \"))\n",
        "if num >= 1000 and num <= 9999:\n",
        "    digit1 = num // 1000\n",
        "    digit2 = (num // 100) % 10\n",
        "    digit3 = (num // 10) % 10\n",
        "    digit4 = num % 10\n",
        "    total = digit1 + digit2 + digit3 + digit4\n",
        "    print(\"Sum of digits:\", total)\n",
        "else:\n",
        "    print(\"Please enter a valid 4 digit number.\")\n",
        "\n"
      ],
      "metadata": {
        "colab": {
          "base_uri": "https://localhost:8080/"
        },
        "id": "z3EQ9oKu5YyR",
        "outputId": "8687c936-03d6-4a5e-d535-1e203220ff4f"
      },
      "execution_count": null,
      "outputs": [
        {
          "output_type": "stream",
          "name": "stdout",
          "text": [
            "Enter a 4 digit number: 1345\n",
            "Sum of digits: 13\n"
          ]
        }
      ]
    },
    {
      "cell_type": "markdown",
      "source": [
        "Day 2 – Control Flow: if-else, loops\n",
        "\n"
      ],
      "metadata": {
        "id": "w1bFkMgfFOlP"
      }
    },
    {
      "cell_type": "code",
      "source": [
        "#1. Write a program to print the factorial of a number using a for loop.\n",
        "n = int(input(\"Enter the number: \"))\n",
        "b = 1\n",
        "for i in range(1, n + 1):\n",
        "    b *= i\n",
        "print(\"The factorial is :\" , b)\n",
        "\n",
        "\n"
      ],
      "metadata": {
        "colab": {
          "base_uri": "https://localhost:8080/"
        },
        "id": "H_KrfBRy11MX",
        "outputId": "2173f7b7-c32f-407e-8f06-18f35e517944"
      },
      "execution_count": null,
      "outputs": [
        {
          "output_type": "stream",
          "name": "stdout",
          "text": [
            "Enter the number: 5\n",
            "The factorial is : 120\n"
          ]
        }
      ]
    },
    {
      "cell_type": "code",
      "source": [
        "#2. Write a program that prints all numbers from 1 to 100 that are divisible by 7 but not a multiple of 5.\n",
        "for i in range(1,101):\n",
        "  if i%7==0 and i%5!=0:\n",
        "    print(i)\n",
        "\n"
      ],
      "metadata": {
        "colab": {
          "base_uri": "https://localhost:8080/"
        },
        "id": "OJ3kvppcIpJg",
        "outputId": "7d5b1ec9-1a38-4c28-cdfa-2ab41aa1e72c"
      },
      "execution_count": null,
      "outputs": [
        {
          "output_type": "stream",
          "name": "stdout",
          "text": [
            "7\n",
            "14\n",
            "21\n",
            "28\n",
            "42\n",
            "49\n",
            "56\n",
            "63\n",
            "77\n",
            "84\n",
            "91\n",
            "98\n"
          ]
        }
      ]
    },
    {
      "cell_type": "code",
      "source": [
        "#3. Write a program that takes a number and prints whether it is a palindrome or not.\n",
        "num = input(\"Enter a number: \")\n",
        "if num == num[::-1]:\n",
        "    print(\"The number is a palindrome.\")\n",
        "else:\n",
        "    print(\"The number is not a palindrome.\")\n",
        "\n"
      ],
      "metadata": {
        "colab": {
          "base_uri": "https://localhost:8080/"
        },
        "id": "6OgT1HqgKoKj",
        "outputId": "3c6dcaf2-58b5-4d63-d452-7d3a2eb1cc7e"
      },
      "execution_count": null,
      "outputs": [
        {
          "output_type": "stream",
          "name": "stdout",
          "text": [
            "Enter a number: 1234545\n",
            "The number is not a palindrome.\n"
          ]
        }
      ]
    },
    {
      "cell_type": "markdown",
      "source": [
        "Day 3 – Functions and String Handling"
      ],
      "metadata": {
        "id": "Z0MchWDsLpv2"
      }
    },
    {
      "cell_type": "code",
      "source": [
        "#1. Write a function to check whether a given string is a pangram (contains all letters of the alphabet).\n",
        "def is_pangram(s):\n",
        "    s = s.lower()\n",
        "    alphabet = \"abcdefghijklmnopqrstuvwxyz\"\n",
        "\n",
        "    for letter in alphabet:\n",
        "        if letter not in s:\n",
        "            return False\n",
        "    return True\n",
        "text = input(\"Enter a string: \")\n",
        "if is_pangram(text):\n",
        "    print(\"The string is a pangram.\")\n",
        "else:\n",
        "    print(\"The string is not a pangram.\")\n",
        "\n"
      ],
      "metadata": {
        "colab": {
          "base_uri": "https://localhost:8080/"
        },
        "id": "Bo_P03g5LrVJ",
        "outputId": "0800a1fa-cfe5-442d-ce63-085568b3a28b"
      },
      "execution_count": null,
      "outputs": [
        {
          "output_type": "stream",
          "name": "stdout",
          "text": [
            "Enter a string: bswbk\n",
            "The string is not a pangram.\n"
          ]
        }
      ]
    },
    {
      "cell_type": "code",
      "source": [
        "#2.\tWrite a function that takes a sentence and returns the word with the maximum length.\n",
        "def word_with_max_length():\n",
        "  word = input(\"Enter the sentence:\" )\n",
        "  words = word.split()\n",
        "\n",
        "  max_len_word = \"\"\n",
        "  for i in words:\n",
        "    if len(i) >len(max_len_word):\n",
        "      max_len_word = i\n",
        "  return max_len_word\n",
        "word_with_max_length()\n",
        "\n"
      ],
      "metadata": {
        "colab": {
          "base_uri": "https://localhost:8080/",
          "height": 53
        },
        "id": "UJBAFRnVpYhb",
        "outputId": "09582fb4-62ba-4649-e9f6-93db0a8e3572"
      },
      "execution_count": null,
      "outputs": [
        {
          "name": "stdout",
          "output_type": "stream",
          "text": [
            "Enter the sentence:My name is sanjana.\n"
          ]
        },
        {
          "output_type": "execute_result",
          "data": {
            "text/plain": [
              "'sanjana.'"
            ],
            "application/vnd.google.colaboratory.intrinsic+json": {
              "type": "string"
            }
          },
          "metadata": {},
          "execution_count": 1
        }
      ]
    },
    {
      "cell_type": "code",
      "source": [
        "#3.\tWrite a function to count the number of uppercase and lowercase characters in a string.\n",
        "def count():\n",
        "  string = input(\"Enter a string:\")\n",
        "  upper_case = 0\n",
        "  lower_case = 0\n",
        "  for i in string:\n",
        "    if i.isupper():\n",
        "      upper_case +=1\n",
        "    elif i.islower():\n",
        "      lower_case +=1\n",
        "  print(\"Upper Case:\",upper_case)\n",
        "  print(\"Lower Case\", lower_case)\n",
        "count()\n"
      ],
      "metadata": {
        "colab": {
          "base_uri": "https://localhost:8080/"
        },
        "id": "rRbZeMLRuexR",
        "outputId": "6949a7da-9a56-479b-ebb9-57648ec4ec78"
      },
      "execution_count": null,
      "outputs": [
        {
          "output_type": "stream",
          "name": "stdout",
          "text": [
            "Enter a string:I like to play Badminton\n",
            "Upper Case: 2\n",
            "Lower Case 18\n"
          ]
        }
      ]
    },
    {
      "cell_type": "markdown",
      "source": [
        "Day 4 – Lists\n"
      ],
      "metadata": {
        "id": "05LpKTSPxp7F"
      }
    },
    {
      "cell_type": "code",
      "source": [
        "#1.\tWrite a program to find the difference between the maximum and minimum elements in a list.\n",
        "def differences():\n",
        "  numbers = list(int,input(\"Enter a list: \"))\n",
        "\n",
        "  differences = \"\"\n",
        "  max_ele = max(numbers)\n",
        "  min_ele = min(numbers)\n",
        "  differences = max_ele - min_ele\n",
        "  return differences\n",
        "  print(\"Differences\", differences())\n"
      ],
      "metadata": {
        "id": "FkRLQdAIxvuD"
      },
      "execution_count": null,
      "outputs": []
    },
    {
      "cell_type": "code",
      "source": [
        "#1.\tWrite a program to find the difference between the maximum and minimum elements in a list.\n",
        "def differences():\n",
        "    numbers = list(map(int, input(\"Enter numbers separated by space: \").split()))\n",
        "    max_ele = max(numbers)\n",
        "    min_ele = min(numbers)\n",
        "    difference = max_ele - min_ele\n",
        "    return difference\n",
        "print(\"Difference:\", differences())\n"
      ],
      "metadata": {
        "colab": {
          "base_uri": "https://localhost:8080/"
        },
        "id": "NXaKiGyl1YxV",
        "outputId": "80b728c4-8e53-42c7-aca8-cb518be3ca82"
      },
      "execution_count": null,
      "outputs": [
        {
          "output_type": "stream",
          "name": "stdout",
          "text": [
            "Enter numbers separated by space: 10 20 30 40 50\n",
            "Difference: 40\n"
          ]
        }
      ]
    },
    {
      "cell_type": "code",
      "source": [
        "#2.\tWrite a program to remove all elements at odd indices from a list.\n",
        "my_list = [1,2,3,4,5,6,7,8,9,10,11,12,13,14]\n",
        "result = my_list[::2]\n",
        "print(result)\n"
      ],
      "metadata": {
        "id": "nJUdAWaD2Ay8",
        "colab": {
          "base_uri": "https://localhost:8080/"
        },
        "outputId": "29ad3055-c2e6-41a4-f303-644bbf37353f"
      },
      "execution_count": null,
      "outputs": [
        {
          "output_type": "stream",
          "name": "stdout",
          "text": [
            "[1, 3, 5, 7, 9, 11, 13]\n"
          ]
        }
      ]
    },
    {
      "cell_type": "code",
      "source": [
        "#3.\tWrite a program that takes a list of integers and prints only the elements that appear exactly once.\n",
        "def numbers():\n",
        "  my_list = list(map(int,input(\"Enter numbers seperated by space:\").split()))\n",
        "  for i in  my_list:\n",
        "   if my_list.count(i) == 1:\n",
        "    print(i)\n",
        "numbers()"
      ],
      "metadata": {
        "colab": {
          "base_uri": "https://localhost:8080/"
        },
        "id": "12xXCYrcLX8y",
        "outputId": "22215427-7ca2-4747-abec-2d42d60af6ab"
      },
      "execution_count": 11,
      "outputs": [
        {
          "output_type": "stream",
          "name": "stdout",
          "text": [
            "Enter numbers seperated by space:1 2 3 4 5 6 3 2\n",
            "1\n",
            "4\n",
            "5\n",
            "6\n"
          ]
        }
      ]
    },
    {
      "cell_type": "markdown",
      "source": [
        "Day 5 – Tuples\n"
      ],
      "metadata": {
        "id": "-OVISXnuAELi"
      }
    },
    {
      "cell_type": "code",
      "source": [
        "#1.\tWrite a program to take 5 numbers from the user and store them in a tuple, then print the maximum and minimum.\n",
        "def numbers():\n",
        "    nums = tuple(map(int, input(\"Enter 5 numbers separated by space: \").split()[:5]))\n",
        "    print(\"Tuple:\", nums)\n",
        "    print(\"Maximum:\", max(nums))\n",
        "    print(\"Minimum:\", min(nums))\n",
        "\n",
        "numbers()\n"
      ],
      "metadata": {
        "colab": {
          "base_uri": "https://localhost:8080/"
        },
        "id": "VYI4dUtC_5yA",
        "outputId": "8d12e596-8abe-40c2-8190-2c96e3e5cbb4"
      },
      "execution_count": 20,
      "outputs": [
        {
          "output_type": "stream",
          "name": "stdout",
          "text": [
            "Enter 5 numbers separated by space: 1 2 3 4 5 6\n",
            "Tuple: (1, 2, 3, 4, 5)\n",
            "Maximum: 5\n",
            "Minimum: 1\n"
          ]
        }
      ]
    },
    {
      "cell_type": "code",
      "source": [
        "#2.\tGiven a tuple of integers, write a program to count how many elements are divisible by 3.\n",
        "def number():\n",
        "  nums = tuple(map(int, input(\"Enter the numbers:\").split()))\n",
        "  count = 0\n",
        "  for i in nums:\n",
        "     if i % 3 == 0 :\n",
        "          count += 1\n",
        "  print(\"Count of numbers divisible by 3:\", count)\n",
        "\n",
        "number()"
      ],
      "metadata": {
        "colab": {
          "base_uri": "https://localhost:8080/"
        },
        "id": "4mOE962nCb1T",
        "outputId": "9c4784a0-e4f9-4a82-f7e4-1f6f01639fe5"
      },
      "execution_count": 22,
      "outputs": [
        {
          "output_type": "stream",
          "name": "stdout",
          "text": [
            "Enter the numbers:10 15 21 18\n",
            "Count of numbers divisible by 3: 3\n"
          ]
        }
      ]
    },
    {
      "cell_type": "code",
      "source": [
        "#3.\tWrite a program to reverse the contents of a tuple without using reversed().\n",
        "def reverse_tuple():\n",
        "    nums = tuple(map(int, input(\"Enter numbers separated by space: \").split()))\n",
        "    reversed_tuple = nums[::-1]\n",
        "    print(\"Original Tuple:\", nums)\n",
        "    print(\"Reversed Tuple:\", reversed_tuple)\n",
        "\n",
        "reverse_tuple()\n",
        "\n"
      ],
      "metadata": {
        "colab": {
          "base_uri": "https://localhost:8080/"
        },
        "id": "8B4I7nJREtld",
        "outputId": "51c7e27f-bf13-426e-c6c8-cf5e8a015bb1"
      },
      "execution_count": 25,
      "outputs": [
        {
          "output_type": "stream",
          "name": "stdout",
          "text": [
            "Enter numbers separated by space: 1 2 3 4 5 6 \n",
            "Original Tuple: (1, 2, 3, 4, 5, 6)\n",
            "Reversed Tuple: (6, 5, 4, 3, 2, 1)\n"
          ]
        }
      ]
    },
    {
      "cell_type": "markdown",
      "source": [
        "Day 6 – Sets"
      ],
      "metadata": {
        "id": "IbzjdV48GuWK"
      }
    },
    {
      "cell_type": "code",
      "source": [
        "#1.\tWrite a program to take two lists from the user and print the common elements using sets.\n",
        "my_list_1 = list(map(int,input(\"Enter numbers seperated by space:\").split()))\n",
        "my_list_2 = list(map(int,input(\"Enter numbers seperated by space:\").split()))\n",
        "common_element = set(my_list_1)&set(my_list_2)\n",
        "print(\"Common Elements :\",common_element)"
      ],
      "metadata": {
        "colab": {
          "base_uri": "https://localhost:8080/"
        },
        "id": "IHgDBfX8GpJd",
        "outputId": "d49880f7-d4d9-483f-ecb4-047f1d5f8291"
      },
      "execution_count": 47,
      "outputs": [
        {
          "output_type": "stream",
          "name": "stdout",
          "text": [
            "Enter numbers seperated by space:1 2 3 4\n",
            "Enter numbers seperated by space:4 5 6 1\n",
            "Common Elements : {1, 4}\n"
          ]
        }
      ]
    },
    {
      "cell_type": "code",
      "source": [
        "#2.\tWrite a program to check if two sets are disjoint or not.\n",
        "set1 = set(map(int, input(\"Enter elements of first set: \").split()))\n",
        "set2 = set(map(int, input(\"Enter elements of second set: \").split()))\n",
        "\n",
        "if set1.isdisjoint(set2):\n",
        "    print(\"The sets are disjoint.\")\n",
        "else:\n",
        "    print(\"The sets are not disjoint.\")\n"
      ],
      "metadata": {
        "colab": {
          "base_uri": "https://localhost:8080/"
        },
        "id": "_9RPY1XlH7Kb",
        "outputId": "729e1c94-b3bf-435a-c5bb-a0d74fe468c9"
      },
      "execution_count": 46,
      "outputs": [
        {
          "output_type": "stream",
          "name": "stdout",
          "text": [
            "Enter elements of first set: 1 2 3 4 5 6\n",
            "Enter elements of second set: 4 5 6 7  8 9\n",
            "The sets are not disjoint.\n"
          ]
        }
      ]
    },
    {
      "cell_type": "code",
      "source": [
        "#3.\tWrite a program to find all unique vowels present in a given string using set.\n",
        "\n",
        "a = input(\"Enter a string: \").lower()\n",
        "vowels = {'a', 'e', 'i', 'o', 'u'}\n",
        "unique_vowels = set(a) & vowels\n",
        "print(\"Unique vowels in the string:\", unique_vowels)\n",
        "\n"
      ],
      "metadata": {
        "colab": {
          "base_uri": "https://localhost:8080/"
        },
        "id": "XeDN392xItKH",
        "outputId": "fc59b933-4430-45ef-e539-78c2f59e8c25"
      },
      "execution_count": 45,
      "outputs": [
        {
          "output_type": "stream",
          "name": "stdout",
          "text": [
            "Enter a string: sanjana\n",
            "Unique vowels in the string: {'a'}\n"
          ]
        }
      ]
    },
    {
      "cell_type": "markdown",
      "source": [
        "Day 7 – Dictionaries\n"
      ],
      "metadata": {
        "id": "VMOs_L_zJVqC"
      }
    },
    {
      "cell_type": "code",
      "source": [
        "#1.\tWrite a program that takes a sentence and creates a dictionary with word counts.\n",
        "sentence = input(\"Enter a sentence: \")\n",
        "words = sentence.split()\n",
        "word_count = {}\n",
        "for word in words:\n",
        "    if word in word_count:\n",
        "        word_count[word] += 1\n",
        "    else:\n",
        "        word_count[word] = 1\n",
        "\n",
        "print(\"Word counts:\", word_count)\n"
      ],
      "metadata": {
        "colab": {
          "base_uri": "https://localhost:8080/"
        },
        "id": "jIKk3PKEJWxt",
        "outputId": "50e88f34-6bd1-4dc0-9c36-34dce1d0800d"
      },
      "execution_count": 43,
      "outputs": [
        {
          "output_type": "stream",
          "name": "stdout",
          "text": [
            "Enter a sentence: HELLO MY NAME IS SANJANA AND I LIKE MY NAME VERY MUCH\n",
            "Word counts: {'HELLO': 1, 'MY': 2, 'NAME': 2, 'IS': 1, 'SANJANA': 1, 'AND': 1, 'I': 1, 'LIKE': 1, 'VERY': 1, 'MUCH': 1}\n"
          ]
        }
      ]
    },
    {
      "cell_type": "code",
      "source": [
        "#2.\tWrite a program to map roll numbers to names using two lists and form a dictionary.\n",
        "roll_numbers = list(map(int, input(\"Enter numbers separated by space: \").split()))\n",
        "names = input(\"Enter names separated by space: \").split()\n",
        "roll_to_name = dict(zip(roll_numbers, names))\n",
        "print(\"Roll Number to Names :\", roll_to_name)\n",
        "\n"
      ],
      "metadata": {
        "colab": {
          "base_uri": "https://localhost:8080/"
        },
        "id": "mOkSB_svKY6P",
        "outputId": "ce7f3cc4-328a-4141-bcc4-9ea3eeeb50c8"
      },
      "execution_count": 41,
      "outputs": [
        {
          "output_type": "stream",
          "name": "stdout",
          "text": [
            "Enter numbers separated by space: 1 2 3 4 5\n",
            "Enter names separated by space: SAM RAM KRISHNA SITA GEETA\n",
            "Roll Number to Names : {1: 'SAM', 2: 'RAM', 3: 'KRISHNA', 4: 'SITA', 5: 'GEETA'}\n"
          ]
        }
      ]
    },
    {
      "cell_type": "code",
      "source": [
        "#3.\tWrite a program that takes a dictionary of students and their marks, and prints the name(s) of the student(s) with the highest marks.\n",
        "n = int(input(\"Enter number of students: \"))\n",
        "students = {}\n",
        "for _ in range(n):\n",
        "    name = input(\"Enter student name: \")\n",
        "    marks = int(input(\"Enter marks: \"))\n",
        "    students[name] = marks\n",
        "max_marks = max(students.values())\n",
        "top_students = [name for name, mark in students.items() if mark == max_marks]\n",
        "print(\"Student(s) with highest marks:\", top_students)\n",
        "\n"
      ],
      "metadata": {
        "colab": {
          "base_uri": "https://localhost:8080/"
        },
        "id": "kHtfaWfqLB_z",
        "outputId": "12f44238-31d7-4989-b96f-745a3a973ae0"
      },
      "execution_count": 40,
      "outputs": [
        {
          "output_type": "stream",
          "name": "stdout",
          "text": [
            "Enter number of students: 3\n",
            "Enter student name: SANJANA\n",
            "Enter marks: 95\n",
            "Enter student name: PRIYA\n",
            "Enter marks: 95\n",
            "Enter student name: DAVID\n",
            "Enter marks: 90\n",
            "Student(s) with highest marks: ['SANJANA', 'PRIYA']\n"
          ]
        }
      ]
    },
    {
      "cell_type": "markdown",
      "source": [
        "Day 8 – Mixed Data Structures"
      ],
      "metadata": {
        "id": "UMq_MSQuL7Ud"
      }
    },
    {
      "cell_type": "code",
      "source": [
        "#1.\tWrite a program that converts a list of tuples into a dictionary.\n",
        " #Example: [('a', 1), ('b', 2)] → {'a': 1, 'b': 2}\n",
        "data = input(\"Enter the tuples (key value) separated by commas: \").split(\",\")\n",
        "\n",
        "tuple_list = []\n",
        "for item in data:\n",
        "    key, value = item.split()\n",
        "    tuple_list.append((key, int(value)))\n",
        "\n",
        "print(\"List of tuples:\", tuple_list)\n",
        "\n",
        "my_dict = dict(tuple_list)\n",
        "print(\"Dictionary:\", my_dict)\n"
      ],
      "metadata": {
        "colab": {
          "base_uri": "https://localhost:8080/"
        },
        "id": "5ODxEMxIL8OI",
        "outputId": "d34b3d58-8272-4276-8530-8824a3b62fbf"
      },
      "execution_count": 35,
      "outputs": [
        {
          "output_type": "stream",
          "name": "stdout",
          "text": [
            "Enter the tuples (key value) separated by commas: A 1 , B 2\n",
            "List of tuples: [('A', 1), ('B', 2)]\n",
            "Dictionary: {'A': 1, 'B': 2}\n"
          ]
        }
      ]
    },
    {
      "cell_type": "code",
      "source": [
        "#2.\tGiven a dictionary with values as lists, write a program to flatten all values into a single list.\n",
        "my_dict = {'a':[1, 2], 'b':[3, 4], 'c':[5, 6]}\n",
        "flattened_list = []\n",
        "for value_list in my_dict.values():\n",
        "    flattened_list.extend(value_list)\n",
        "print(\"Flattened list:\", flattened_list)\n"
      ],
      "metadata": {
        "colab": {
          "base_uri": "https://localhost:8080/"
        },
        "id": "LWwDGyjNOpdO",
        "outputId": "152d761e-eddf-47b0-e7dc-66682db98c10"
      },
      "execution_count": 30,
      "outputs": [
        {
          "output_type": "stream",
          "name": "stdout",
          "text": [
            "Flattened list: [1, 2, 3, 4, 5, 6]\n"
          ]
        }
      ]
    },
    {
      "cell_type": "code",
      "source": [
        "#3.\tWrite a program that takes a list with duplicate elements and returns a dictionary with elements as keys and their frequency as values.\n",
        "nums = list(map(int, input(\"Enter numbers separated by space: \").split()))\n",
        "\n",
        "freq_dict = {}\n",
        "\n",
        "for num in nums:\n",
        "    if num in freq_dict:\n",
        "        freq_dict[num] += 1\n",
        "    else:\n",
        "        freq_dict[num] = 1\n",
        "\n",
        "print(\"Frequency of elements:\", freq_dict)\n",
        "\n"
      ],
      "metadata": {
        "colab": {
          "base_uri": "https://localhost:8080/"
        },
        "id": "iss0Kv-NRcVH",
        "outputId": "39d457ab-44db-4a7a-cf5f-5c59766a5e37"
      },
      "execution_count": 29,
      "outputs": [
        {
          "output_type": "stream",
          "name": "stdout",
          "text": [
            "Enter numbers separated by space: 1 2 2 3 4 5 5 6 \n",
            "Frequency of elements: {1: 1, 2: 2, 3: 1, 4: 1, 5: 2, 6: 1}\n"
          ]
        }
      ]
    }
  ]
}